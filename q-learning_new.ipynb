{
 "cells": [
  {
   "cell_type": "code",
   "id": "initial_id",
   "metadata": {
    "collapsed": true,
    "ExecuteTime": {
     "end_time": "2024-12-15T15:13:11.194515Z",
     "start_time": "2024-12-15T15:13:11.192185Z"
    }
   },
   "source": [
    "import numpy as np\n",
    "from collections import deque\n",
    "import matplotlib.pyplot as plt"
   ],
   "outputs": [],
   "execution_count": 63
  },
  {
   "metadata": {
    "ExecuteTime": {
     "end_time": "2024-12-15T18:52:54.603099Z",
     "start_time": "2024-12-15T18:52:54.599997Z"
    }
   },
   "cell_type": "code",
   "source": [
    "# Define the environment\n",
    "grid_size = 4\n",
    "n_states = grid_size * grid_size\n",
    "n_actions = 4\n",
    "goal_state = 15\n",
    "\n",
    "actions = {'up': 0, 'down': 1, 'left': 2, 'right': 3}\n",
    "\n",
    "# Define parameters\n",
    "learning_rate0 = 0.8  # Initial learning rate\n",
    "decay = 0.01  # Learning rate decay\n",
    "discount_factor = 0.95\n",
    "exploration_probability = 0.6\n",
    "epochs = 400\n",
    "\n",
    "#graph\n",
    "max_q_values = []\n",
    "\n",
    "#replay buffer\n",
    "# buffer_size = 100  # Maximum size of the replay buffer\n",
    "# batch_size = 32  # Number of samples to train on per epoch"
   ],
   "id": "b92225e62cb02d47",
   "outputs": [],
   "execution_count": 162
  },
  {
   "metadata": {
    "ExecuteTime": {
     "end_time": "2024-12-15T18:52:56.347783Z",
     "start_time": "2024-12-15T18:52:56.344959Z"
    }
   },
   "cell_type": "code",
   "source": [
    "def get_next_state(state, action):\n",
    "    row, col = divmod(state, grid_size)\n",
    "    if action == actions['up'] and row > 0:\n",
    "        row -= 1\n",
    "    elif action == actions['down'] and row < grid_size - 1:\n",
    "        row += 1\n",
    "    elif action == actions['left'] and col > 0:\n",
    "        col -= 1\n",
    "    elif action == actions['right'] and col < grid_size - 1:\n",
    "        col += 1\n",
    "    return row * grid_size + col"
   ],
   "id": "3aedcee4582ebcdc",
   "outputs": [],
   "execution_count": 163
  },
  {
   "metadata": {
    "ExecuteTime": {
     "end_time": "2024-12-15T18:52:58.131459Z",
     "start_time": "2024-12-15T18:52:58.128355Z"
    }
   },
   "cell_type": "code",
   "source": [
    "Q_table = np.zeros((n_states, n_actions))\n",
    "# replay_buffer = deque(maxlen=buffer_size)"
   ],
   "id": "d3a3799d6c630651",
   "outputs": [],
   "execution_count": 164
  },
  {
   "metadata": {
    "ExecuteTime": {
     "end_time": "2024-12-15T18:52:59.834283Z",
     "start_time": "2024-12-15T18:52:59.801958Z"
    }
   },
   "cell_type": "code",
   "source": [
    "for epoch in range(epochs):\n",
    "    current_state = np.random.randint(0, n_states)\n",
    "\n",
    "    while current_state != goal_state:\n",
    "        # Choose action with epsilon-greedy strategy\n",
    "        if np.random.rand() < exploration_probability:\n",
    "            action = np.random.randint(0, n_actions)  # Explore\n",
    "        else:\n",
    "            action = np.argmax(Q_table[current_state])  # Exploit\n",
    "\n",
    "        # Simulate the environment (move to the next state)\n",
    "        next_state = get_next_state(current_state, action)\n",
    "\n",
    "        # Define a simple reward function (1 if the goal state is reached, 0 otherwise)\n",
    "        reward = 1 if next_state == goal_state else -0.1\n",
    "\n",
    "        # Store transition in the replay buffer\n",
    "        # replay_buffer.append((current_state, action, reward, next_state))\n",
    "\n",
    "        # Train using a random batch from the replay buffer\n",
    "        # if len(replay_buffer) >= batch_size:\n",
    "        #     batch = random.sample(replay_buffer, batch_size)\n",
    "        #     for s, a, r, ns in batch:\n",
    "        #         learning_rate = learning_rate0 / (1 + epoch * decay)\n",
    "        #         Q_table[s, a] += learning_rate * \\\n",
    "        #                          (r + discount_factor * np.max(Q_table[ns]) - Q_table[s, a])\n",
    "\n",
    "        # Update Q-value\n",
    "        learning_rate = learning_rate0 / (1 + epoch * decay)\n",
    "        Q_table[current_state, action] += learning_rate * \\\n",
    "                                          (reward + discount_factor *\n",
    "                                           np.max(Q_table[next_state]) - Q_table[current_state, action])\n",
    "\n",
    "        current_state = next_state  # Move to the next state\n",
    "\n",
    "    max_q_values.append(np.average(Q_table))"
   ],
   "id": "b269f33e1f34b270",
   "outputs": [],
   "execution_count": 165
  },
  {
   "metadata": {
    "ExecuteTime": {
     "end_time": "2024-12-15T18:53:02.643623Z",
     "start_time": "2024-12-15T18:53:02.640463Z"
    }
   },
   "cell_type": "code",
   "source": [
    "print(\"\\nQ-Table after Q-Learning:\")\n",
    "print(Q_table)"
   ],
   "id": "2ceb076719149504",
   "outputs": [
    {
     "name": "stdout",
     "output_type": "stream",
     "text": [
      "\n",
      "Q-Table after Q-Learning:\n",
      "[[0.19866805 0.32134274 0.20409015 0.31781864]\n",
      " [0.31874911 0.44270109 0.19742021 0.44351875]\n",
      " [0.44339996 0.572125   0.32129208 0.57209754]\n",
      " [0.57202631 0.7075     0.44343776 0.57190589]\n",
      " [0.20428485 0.44351875 0.31840583 0.44275648]\n",
      " [0.32044376 0.57036901 0.31127629 0.572125  ]\n",
      " [0.44351512 0.7075     0.44351794 0.7075    ]\n",
      " [0.57212499 0.85       0.57212498 0.7075    ]\n",
      " [0.32094048 0.57158408 0.44326593 0.572125  ]\n",
      " [0.44341673 0.70749834 0.44351818 0.7075    ]\n",
      " [0.57212499 0.85       0.57212499 0.84999999]\n",
      " [0.7075     1.         0.70749999 0.85      ]\n",
      " [0.44179021 0.56809605 0.56873532 0.7075    ]\n",
      " [0.57211956 0.70749987 0.57212495 0.85      ]\n",
      " [0.7075     0.85       0.7075     1.        ]\n",
      " [0.         0.         0.         0.        ]]\n"
     ]
    }
   ],
   "execution_count": 166
  },
  {
   "metadata": {
    "ExecuteTime": {
     "end_time": "2024-12-15T18:53:04.663091Z",
     "start_time": "2024-12-15T18:53:04.660028Z"
    }
   },
   "cell_type": "code",
   "source": [
    "optimal_policy = np.argmax(Q_table, axis=1)\n",
    "print(\"\\nOptimal Policy:\")\n",
    "print(optimal_policy)"
   ],
   "id": "2995a0e7ff0dd103",
   "outputs": [
    {
     "name": "stdout",
     "output_type": "stream",
     "text": [
      "\n",
      "Optimal Policy:\n",
      "[1 3 1 1 1 3 3 1 3 3 1 1 3 3 3 0]\n"
     ]
    }
   ],
   "execution_count": 167
  },
  {
   "metadata": {
    "ExecuteTime": {
     "end_time": "2024-12-15T18:54:10.279477Z",
     "start_time": "2024-12-15T18:54:10.178714Z"
    }
   },
   "cell_type": "code",
   "source": [
    "plt.figure(figsize=(12, 6))\n",
    "\n",
    "plt.subplot(1, 2, 1)\n",
    "plt.plot(max_q_values, label='AVG - Q-Table')\n",
    "plt.xlabel('Epoch')\n",
    "plt.ylabel('AVG - Q-Table')\n",
    "plt.title('Q - Learning')\n",
    "plt.grid(True)\n",
    "plt.legend()"
   ],
   "id": "44f5e47f04f3512e",
   "outputs": [
    {
     "data": {
      "text/plain": [
       "<matplotlib.legend.Legend at 0x242103f36e0>"
      ]
     },
     "execution_count": 169,
     "metadata": {},
     "output_type": "execute_result"
    },
    {
     "data": {
      "text/plain": [
       "<Figure size 1200x600 with 1 Axes>"
      ],
      "image/png": "[encoded data removed]"
     },
     "metadata": {},
     "output_type": "display_data"
    }
   ],
   "execution_count": 169
  }
 ],
 "metadata": {
  "kernelspec": {
   "display_name": "Python 3",
   "language": "python",
   "name": "python3"
  },
  "language_info": {
   "codemirror_mode": {
    "name": "ipython",
    "version": 2
   },
   "file_extension": ".py",
   "mimetype": "text/x-python",
   "name": "python",
   "nbconvert_exporter": "python",
   "pygments_lexer": "ipython2",
   "version": "2.7.6"
  }
 },
 "nbformat": 4,
 "nbformat_minor": 5
}
